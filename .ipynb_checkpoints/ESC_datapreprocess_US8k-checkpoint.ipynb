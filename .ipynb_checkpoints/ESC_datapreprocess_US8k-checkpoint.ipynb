{
 "cells": [
  {
   "cell_type": "code",
   "execution_count": 6,
   "id": "84fb6579-05e2-44ce-b015-a8b088a2ac91",
   "metadata": {},
   "outputs": [],
   "source": [
    "import librosa\n",
    "import pandas as pd\n",
    "import numpy as np\n",
    "from tqdm import tqdm\n",
    "import os"
   ]
  },
  {
   "cell_type": "code",
   "execution_count": 2,
   "id": "aa5e7b17-9192-4eb8-99d7-76ebb4f6a7b5",
   "metadata": {},
   "outputs": [],
   "source": [
    "audio_path= r\"E:\\Me\\coding\\jupyter\\Environmental_Sound_Classification\\dataset\\UrbanSound8K\\audio\"\n",
    "metadata_path= r\"E:\\Me\\coding\\jupyter\\Environmental_Sound_Classification\\dataset\\UrbanSound8K\\metadata\\UrbanSound8K.csv\""
   ]
  },
  {
   "cell_type": "code",
   "execution_count": 3,
   "id": "50b97d3a-31ef-48d4-ab60-54ad1ebd4801",
   "metadata": {},
   "outputs": [
    {
     "data": {
      "text/html": [
       "<div>\n",
       "<style scoped>\n",
       "    .dataframe tbody tr th:only-of-type {\n",
       "        vertical-align: middle;\n",
       "    }\n",
       "\n",
       "    .dataframe tbody tr th {\n",
       "        vertical-align: top;\n",
       "    }\n",
       "\n",
       "    .dataframe thead th {\n",
       "        text-align: right;\n",
       "    }\n",
       "</style>\n",
       "<table border=\"1\" class=\"dataframe\">\n",
       "  <thead>\n",
       "    <tr style=\"text-align: right;\">\n",
       "      <th></th>\n",
       "      <th>slice_file_name</th>\n",
       "      <th>fold</th>\n",
       "      <th>classID</th>\n",
       "    </tr>\n",
       "  </thead>\n",
       "  <tbody>\n",
       "    <tr>\n",
       "      <th>0</th>\n",
       "      <td>100032-3-0-0.wav</td>\n",
       "      <td>5</td>\n",
       "      <td>3</td>\n",
       "    </tr>\n",
       "    <tr>\n",
       "      <th>1</th>\n",
       "      <td>100263-2-0-117.wav</td>\n",
       "      <td>5</td>\n",
       "      <td>2</td>\n",
       "    </tr>\n",
       "    <tr>\n",
       "      <th>2</th>\n",
       "      <td>100263-2-0-121.wav</td>\n",
       "      <td>5</td>\n",
       "      <td>2</td>\n",
       "    </tr>\n",
       "    <tr>\n",
       "      <th>3</th>\n",
       "      <td>100263-2-0-126.wav</td>\n",
       "      <td>5</td>\n",
       "      <td>2</td>\n",
       "    </tr>\n",
       "    <tr>\n",
       "      <th>4</th>\n",
       "      <td>100263-2-0-137.wav</td>\n",
       "      <td>5</td>\n",
       "      <td>2</td>\n",
       "    </tr>\n",
       "    <tr>\n",
       "      <th>...</th>\n",
       "      <td>...</td>\n",
       "      <td>...</td>\n",
       "      <td>...</td>\n",
       "    </tr>\n",
       "    <tr>\n",
       "      <th>8727</th>\n",
       "      <td>99812-1-2-0.wav</td>\n",
       "      <td>7</td>\n",
       "      <td>1</td>\n",
       "    </tr>\n",
       "    <tr>\n",
       "      <th>8728</th>\n",
       "      <td>99812-1-3-0.wav</td>\n",
       "      <td>7</td>\n",
       "      <td>1</td>\n",
       "    </tr>\n",
       "    <tr>\n",
       "      <th>8729</th>\n",
       "      <td>99812-1-4-0.wav</td>\n",
       "      <td>7</td>\n",
       "      <td>1</td>\n",
       "    </tr>\n",
       "    <tr>\n",
       "      <th>8730</th>\n",
       "      <td>99812-1-5-0.wav</td>\n",
       "      <td>7</td>\n",
       "      <td>1</td>\n",
       "    </tr>\n",
       "    <tr>\n",
       "      <th>8731</th>\n",
       "      <td>99812-1-6-0.wav</td>\n",
       "      <td>7</td>\n",
       "      <td>1</td>\n",
       "    </tr>\n",
       "  </tbody>\n",
       "</table>\n",
       "<p>8732 rows × 3 columns</p>\n",
       "</div>"
      ],
      "text/plain": [
       "         slice_file_name  fold  classID\n",
       "0       100032-3-0-0.wav     5        3\n",
       "1     100263-2-0-117.wav     5        2\n",
       "2     100263-2-0-121.wav     5        2\n",
       "3     100263-2-0-126.wav     5        2\n",
       "4     100263-2-0-137.wav     5        2\n",
       "...                  ...   ...      ...\n",
       "8727     99812-1-2-0.wav     7        1\n",
       "8728     99812-1-3-0.wav     7        1\n",
       "8729     99812-1-4-0.wav     7        1\n",
       "8730     99812-1-5-0.wav     7        1\n",
       "8731     99812-1-6-0.wav     7        1\n",
       "\n",
       "[8732 rows x 3 columns]"
      ]
     },
     "execution_count": 3,
     "metadata": {},
     "output_type": "execute_result"
    }
   ],
   "source": [
    "metadata_df= pd.read_csv(metadata_path, usecols=[\"slice_file_name\", \"fold\", \"classID\"],dtype={\"fold\": \"uint8\", \"classID\" : \"uint8\"})\n",
    "metadata_df"
   ]
  },
  {
   "cell_type": "code",
   "execution_count": 4,
   "id": "8117cd52-da25-451c-8ae7-d3ecde048c49",
   "metadata": {},
   "outputs": [],
   "source": [
    "def extract_mfcc(file_path, sr=22050, n_mfcc=120, max_len=173):\n",
    "    try:\n",
    "        y, sr = librosa.load(file_path, sr=sr)\n",
    "        mfcc = librosa.feature.mfcc(y=y, sr=sr, n_mfcc=n_mfcc)\n",
    "        mfcc = (mfcc - np.mean(mfcc)) / np.std(mfcc)  # Standardization\n",
    "        \n",
    "        # Fix length (pad or truncate to max_len time steps)\n",
    "        if mfcc.shape[1] < max_len:\n",
    "            pad_width = max_len - mfcc.shape[1]\n",
    "            mfcc = np.pad(mfcc, pad_width=((0, 0), (0, pad_width)), mode='constant')\n",
    "        else:\n",
    "            mfcc = mfcc[:, :max_len]\n",
    "        \n",
    "        # Flatten to 1D vector (important for ANN)\n",
    "        return mfcc.flatten()\n",
    "    except Exception as e:\n",
    "        print(\"Error processing\", file_path, e)\n",
    "        return None\n"
   ]
  },
  {
   "cell_type": "code",
   "execution_count": 7,
   "id": "341e6ebf-00ee-4779-9b5b-2d64271e024c",
   "metadata": {},
   "outputs": [
    {
     "name": "stderr",
     "output_type": "stream",
     "text": [
      " 41%|████      | 3555/8732 [01:07<01:30, 57.22it/s]C:\\Users\\krjig\\AppData\\Roaming\\Python\\Python310\\site-packages\\librosa\\core\\spectrum.py:266: UserWarning: n_fft=2048 is too large for input signal of length=1323\n",
      "  warnings.warn(\n",
      " 95%|█████████▌| 8320/8732 [02:33<00:07, 57.89it/s]C:\\Users\\krjig\\AppData\\Roaming\\Python\\Python310\\site-packages\\librosa\\core\\spectrum.py:266: UserWarning: n_fft=2048 is too large for input signal of length=1103\n",
      "  warnings.warn(\n",
      " 95%|█████████▌| 8327/8732 [02:33<00:06, 59.70it/s]C:\\Users\\krjig\\AppData\\Roaming\\Python\\Python310\\site-packages\\librosa\\core\\spectrum.py:266: UserWarning: n_fft=2048 is too large for input signal of length=1523\n",
      "  warnings.warn(\n",
      "100%|██████████| 8732/8732 [02:40<00:00, 54.33it/s]\n"
     ]
    }
   ],
   "source": [
    "X = []\n",
    "y = []\n",
    "\n",
    "for index, row in tqdm(metadata_df.iterrows(), total=len(metadata_df)):\n",
    "    fold = f\"fold{row['fold']}\"\n",
    "    file_path = os.path.join(audio_path, fold, row['slice_file_name'])\n",
    "\n",
    "    mfcc_features = extract_mfcc(file_path)\n",
    "    \n",
    "    if mfcc_features is not None:\n",
    "        X.append(mfcc_features)\n",
    "        y.append(row['classID'])\n",
    "\n",
    "X = np.array(X)\n",
    "y = np.array(y)"
   ]
  },
  {
   "cell_type": "code",
   "execution_count": 11,
   "id": "6404f430-36ac-4644-bbb9-3f98aaa4ecd5",
   "metadata": {},
   "outputs": [
    {
     "name": "stdout",
     "output_type": "stream",
     "text": [
      "✅ Data saved: X_data.npy and y_data.npy\n"
     ]
    }
   ],
   "source": [
    "X = np.array(X, dtype=np.float32)\n",
    "y = np.array(y, dtype=np.int64)\n",
    "\n",
    "# Save to disk\n",
    "np.save(\"X_data.npy\", X)\n",
    "np.save(\"y_data.npy\", y)\n",
    "\n",
    "print(\"✅ Data saved: X_data.npy and y_data.npy\")"
   ]
  }
 ],
 "metadata": {
  "kernelspec": {
   "display_name": "Python 3 (ipykernel)",
   "language": "python",
   "name": "python3"
  },
  "language_info": {
   "codemirror_mode": {
    "name": "ipython",
    "version": 3
   },
   "file_extension": ".py",
   "mimetype": "text/x-python",
   "name": "python",
   "nbconvert_exporter": "python",
   "pygments_lexer": "ipython3",
   "version": "3.10.18"
  }
 },
 "nbformat": 4,
 "nbformat_minor": 5
}
